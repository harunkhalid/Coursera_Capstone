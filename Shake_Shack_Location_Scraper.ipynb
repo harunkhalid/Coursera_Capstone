{
 "cells": [
  {
   "cell_type": "code",
   "execution_count": 8,
   "metadata": {},
   "outputs": [],
   "source": [
    "driver = webdriver.Chrome(executable_path=\"C:/Users/Owner/Downloads/chromedriver.exe\", options=option)"
   ]
  },
  {
   "cell_type": "code",
   "execution_count": 9,
   "metadata": {},
   "outputs": [],
   "source": [
    "driver.get('https://www.shakeshack.com/locations/')"
   ]
  },
  {
   "cell_type": "code",
   "execution_count": 5,
   "metadata": {},
   "outputs": [],
   "source": [
    "shakeshack_state_element=driver.find_elements(By.XPATH,\"//div[@class='row js-location-heading']\")"
   ]
  },
  {
   "cell_type": "code",
   "execution_count": 6,
   "metadata": {},
   "outputs": [
    {
     "data": {
      "text/plain": [
       "45"
      ]
     },
     "execution_count": 6,
     "metadata": {},
     "output_type": "execute_result"
    }
   ],
   "source": [
    "\n",
    "len(shakeshack_state_element)"
   ]
  },
  {
   "cell_type": "code",
   "execution_count": 10,
   "metadata": {},
   "outputs": [],
   "source": [
    "shakeshack_store_details_usa_dict={'store_name':[],'store_address':[],'store_direction_link':[]}\n",
    "\n",
    "n=3\n",
    "for i in shakeshack_state_element:\n",
    "    #By default, Alabama is expanded when we land on locations page and hence we are ignoring n=1. there is a difference of 2 between consecutive n's and hence we set n=n+2.\n",
    "    #The code below expands all states prior to extracting store details\n",
    "    #Only 30 out of 45 locations are US states and hence setting the limit shown below\n",
    "    if shakeshack_state_element.index(i) < 30:\n",
    "        #print(n)\n",
    "        state_element=driver.find_element(By.XPATH,'//*[@id=\"main\"]/div/div/div[1]/div[{}]/div/div/div[2]/h3'.format(n))\n",
    "        driver.execute_script(\"arguments[0].click();\", state_element)\n",
    "        state_stores=driver.find_elements(By.XPATH,'//div[@class=\"address\"]')\n",
    "        n=n+2\n",
    "    else:\n",
    "        break\n",
    "\n",
    "        \n",
    "#Extracting name of store\n",
    "store_name_element=driver.find_elements(By.XPATH,'//h4')\n",
    "\n",
    "for store_name in store_name_element:\n",
    "    if store_name_element.index(store_name) <=190:\n",
    "        shakeshack_store_details_usa_dict['store_name'].append(store_name.text)\n",
    "    else:\n",
    "        break\n",
    "        \n",
    "\n",
    "#Extracting address line items for store\n",
    "store_address_element=driver.find_elements(By.XPATH,\"//div[@class='address']\")\n",
    "\n",
    "for address in store_address_element:\n",
    "    if store_address_element.index(address) <=190:\n",
    "        shakeshack_store_details_usa_dict['store_address'].append(address.text)\n",
    "        \n",
    "    else:\n",
    "        break\n",
    "\n",
    "#Extracting underlying link from the directions link to parse as the data is cleaner than the one presented in address\n",
    "store_directions_element= driver.find_elements(By.XPATH,\"//a[@target='_blank' and @class='js-dir']\")\n",
    "\n",
    "for direction in store_directions_element:\n",
    "    if  store_directions_element.index(direction)<=190:\n",
    "        if direction.get_attribute('href')!='':\n",
    "            shakeshack_store_details_usa_dict['store_direction_link'].append(direction.get_attribute('href'))\n",
    "        else:\n",
    "            shakeshack_store_details_usa_dict['store_direction_link'].append(direction.get_attribute('data-location'))\n",
    "    else:\n",
    "        break\n",
    "    \n",
    "        \n",
    "\n",
    "driver.quit()              \n"
   ]
  },
  {
   "cell_type": "code",
   "execution_count": 490,
   "metadata": {},
   "outputs": [],
   "source": [
    "#Creating a dataframe using the created dictionary\n",
    "shakeshack_store_details_df=pd.DataFrame(shakeshack_store_details_usa_dict)"
   ]
  },
  {
   "cell_type": "code",
   "execution_count": 491,
   "metadata": {},
   "outputs": [],
   "source": [
    "#Standardizing the links as some links started with https:// while others didn't\n",
    "shakeshack_store_details_df['link_cleaned']=shakeshack_store_details_df['store_direction_link'].where(~shakeshack_store_details_df['store_direction_link'].str.contains('='), shakeshack_store_details_df['store_direction_link'].str.split('=').str[1])"
   ]
  },
  {
   "cell_type": "code",
   "execution_count": 492,
   "metadata": {},
   "outputs": [],
   "source": [
    "#Creating Zipcode field\n",
    "shakeshack_store_details_df['Zipcode']=shakeshack_store_details_df['link_cleaned'].str.split('+').str[-1]"
   ]
  },
  {
   "cell_type": "code",
   "execution_count": 493,
   "metadata": {},
   "outputs": [],
   "source": [
    "#Cleaning Zipcode data\n",
    "shakeshack_store_details_df['Zipcode']=shakeshack_store_details_df['Zipcode'].where(~shakeshack_store_details_df['Zipcode'].str.contains('%'), shakeshack_store_details_df['Zipcode'].str.split('%').str[0])"
   ]
  },
  {
   "cell_type": "code",
   "execution_count": 497,
   "metadata": {},
   "outputs": [],
   "source": [
    "#Creating datframe with Store and Zipcode Infomtion which will be used in main script to aggregate stores info at a city level\n",
    "shakeshack_store_zipcodes_df=shakeshack_store_details_df[['store_name','Zipcode']]"
   ]
  },
  {
   "cell_type": "code",
   "execution_count": 498,
   "metadata": {},
   "outputs": [],
   "source": [
    "#Droopping zipcodes that are not 5 digits in length. Some links didn't have a zipcode and hence have to exlcude them from the results\n",
    "shakeshack_store_zipcodes_df=shakeshack_store_zipcodes_df[shakeshack_store_details_df.Zipcode.str.len() ==5].reset_index(drop=True)"
   ]
  },
  {
   "cell_type": "code",
   "execution_count": 499,
   "metadata": {},
   "outputs": [
    {
     "data": {
      "text/html": [
       "<div>\n",
       "<style scoped>\n",
       "    .dataframe tbody tr th:only-of-type {\n",
       "        vertical-align: middle;\n",
       "    }\n",
       "\n",
       "    .dataframe tbody tr th {\n",
       "        vertical-align: top;\n",
       "    }\n",
       "\n",
       "    .dataframe thead th {\n",
       "        text-align: right;\n",
       "    }\n",
       "</style>\n",
       "<table border=\"1\" class=\"dataframe\">\n",
       "  <thead>\n",
       "    <tr style=\"text-align: right;\">\n",
       "      <th></th>\n",
       "      <th>store_name</th>\n",
       "      <th>Zipcode</th>\n",
       "    </tr>\n",
       "  </thead>\n",
       "  <tbody>\n",
       "    <tr>\n",
       "      <th>0</th>\n",
       "      <td>Birmingham, AL</td>\n",
       "      <td>35243</td>\n",
       "    </tr>\n",
       "    <tr>\n",
       "      <th>1</th>\n",
       "      <td>Fashion Square, AZ</td>\n",
       "      <td>85251</td>\n",
       "    </tr>\n",
       "    <tr>\n",
       "      <th>2</th>\n",
       "      <td>Kierland Commons, AZ</td>\n",
       "      <td>85254</td>\n",
       "    </tr>\n",
       "    <tr>\n",
       "      <th>3</th>\n",
       "      <td>Phoenix Uptown Plaza, AZ</td>\n",
       "      <td>85012</td>\n",
       "    </tr>\n",
       "    <tr>\n",
       "      <th>4</th>\n",
       "      <td>SanTan Village, Gilbert, AZ</td>\n",
       "      <td>89295</td>\n",
       "    </tr>\n",
       "    <tr>\n",
       "      <th>...</th>\n",
       "      <td>...</td>\n",
       "      <td>...</td>\n",
       "    </tr>\n",
       "    <tr>\n",
       "      <th>167</th>\n",
       "      <td>Logan Circle, Washington, D.C.</td>\n",
       "      <td>20005</td>\n",
       "    </tr>\n",
       "    <tr>\n",
       "      <th>168</th>\n",
       "      <td>Nationals Park, Washington, D.C.</td>\n",
       "      <td>20003</td>\n",
       "    </tr>\n",
       "    <tr>\n",
       "      <th>169</th>\n",
       "      <td>Navy Yard, Washington, D.C.</td>\n",
       "      <td>20003</td>\n",
       "    </tr>\n",
       "    <tr>\n",
       "      <th>170</th>\n",
       "      <td>The Wharf, Washington, D.C.</td>\n",
       "      <td>20024</td>\n",
       "    </tr>\n",
       "    <tr>\n",
       "      <th>171</th>\n",
       "      <td>Union Station, Washington, D.C.</td>\n",
       "      <td>20002</td>\n",
       "    </tr>\n",
       "  </tbody>\n",
       "</table>\n",
       "<p>172 rows × 2 columns</p>\n",
       "</div>"
      ],
      "text/plain": [
       "                           store_name Zipcode\n",
       "0                      Birmingham, AL   35243\n",
       "1                  Fashion Square, AZ   85251\n",
       "2                Kierland Commons, AZ   85254\n",
       "3            Phoenix Uptown Plaza, AZ   85012\n",
       "4         SanTan Village, Gilbert, AZ   89295\n",
       "..                                ...     ...\n",
       "167    Logan Circle, Washington, D.C.   20005\n",
       "168  Nationals Park, Washington, D.C.   20003\n",
       "169       Navy Yard, Washington, D.C.   20003\n",
       "170       The Wharf, Washington, D.C.   20024\n",
       "171   Union Station, Washington, D.C.   20002\n",
       "\n",
       "[172 rows x 2 columns]"
      ]
     },
     "execution_count": 499,
     "metadata": {},
     "output_type": "execute_result"
    }
   ],
   "source": [
    "#vieweing final shakeshack storesdata frame\n",
    "shakeshack_store_zipcodes_df"
   ]
  },
  {
   "cell_type": "code",
   "execution_count": null,
   "metadata": {},
   "outputs": [],
   "source": [
    "print(\"Shakeshack store data extraction complete! Created dataframe: shakeshack_store_zipcodes_df\")"
   ]
  }
 ],
 "metadata": {
  "kernelspec": {
   "display_name": "Python 3",
   "language": "python",
   "name": "python3"
  },
  "language_info": {
   "codemirror_mode": {
    "name": "ipython",
    "version": 3
   },
   "file_extension": ".py",
   "mimetype": "text/x-python",
   "name": "python",
   "nbconvert_exporter": "python",
   "pygments_lexer": "ipython3",
   "version": "3.7.6"
  }
 },
 "nbformat": 4,
 "nbformat_minor": 4
}
