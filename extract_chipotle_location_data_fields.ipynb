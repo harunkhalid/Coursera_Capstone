{
 "cells": [
  {
   "cell_type": "code",
   "execution_count": null,
   "metadata": {},
   "outputs": [],
   "source": [
    "#Scraping Store Name\n",
    "#Creating dictonary to capture data\n",
    "#chipotle_stores_dict={'Store_Name':[], 'Store_Street_Address':[], 'Store_State':[], 'Store_State_Code':[], 'Store_City':[],'Store_Zipcode':[]}\n",
    "\n",
    "try:\n",
    "    store_name_element=driver.find_element(By.XPATH,'//*[@id=\"location-name\"]')\n",
    "    chipotle_stores_dict['Store_Name'].append(store_name_element.text)\n",
    "except:\n",
    "    chipotle_stores_dict['Store_Name'].append(\"NA\")\n",
    "\n",
    "#Scraping Street Address\n",
    "try:\n",
    "    store_street_address_element=driver.find_element(By.XPATH,'//span[@class=\"c-address-street-1\"]')\n",
    "    chipotle_stores_dict['Store_Street_Address'].append(store_street_address_element.text)\n",
    "except:\n",
    "    chipotle_stores_dict['Store_Street_Address'].append(\"NA\")\n",
    "\n",
    "\n",
    "#Scraping Store State Name\n",
    "try:\n",
    "    store_state_element=driver.find_element(By.XPATH,'//abbr[@class=\"c-address-state\"]')\n",
    "    chipotle_stores_dict['Store_State'].append(store_state_element.get_attribute('title'))\n",
    "except:\n",
    "    chipotle_stores_dict['Store_State'].append(\"NA\")\n",
    "\n",
    "\n",
    "#Scraping Store State_Code\n",
    "try:\n",
    "    store_state_code_element=driver.find_element(By.XPATH,'//abbr[@class=\"c-address-state\"]')\n",
    "    chipotle_stores_dict['Store_State_Code'].append(store_state_code_element.text)\n",
    "except:\n",
    "    chipotle_stores_dict['Store_State_Code'].append(\"NA\")\n",
    "\n",
    "#Scraping Store City\n",
    "try:\n",
    "    store_city_element=driver.find_element(By.XPATH,\"//span[@class = 'c-address-city']\")\n",
    "    chipotle_stores_dict['Store_City'].append(store_city_element.text)\n",
    "except:\n",
    "    chipotle_stores_dict['Store_City'].append(\"NA\")\n",
    "\n",
    "#Scraping Store Zip Code\n",
    "try:\n",
    "    store_zipcode_element=driver.find_element(By.XPATH,\"//span[@class = 'c-address-postal-code']\")\n",
    "    chipotle_stores_dict['Store_Zipcode'].append(store_zipcode_element.text)\n",
    "except:\n",
    "    chipotle_stores_dict['Store_Zipcode'].append(\"NA\")\n",
    "    \n",
    "#Scraping Store Phone Number\n",
    "try:\n",
    "    #store_phone_number_element=driver.find_element(By.XPATH,\"//a[@class='Phone-link']\")\n",
    "    store_phone_number_element=driver.find_element(By.XPATH,\"//div[@class='Phone-display Phone-display--withLink']\")\n",
    "    chipotle_stores_dict['Store_Phone_Number'].append(store_phone_number_element.text.replace(\") \", \"-\").replace(\"(\",\"\"))\n",
    "except:\n",
    "    chipotle_stores_dict['Store_Phone_Number'].append(\"NA\")\n"
   ]
  }
 ],
 "metadata": {
  "kernelspec": {
   "display_name": "Python 3",
   "language": "python",
   "name": "python3"
  },
  "language_info": {
   "codemirror_mode": {
    "name": "ipython",
    "version": 3
   },
   "file_extension": ".py",
   "mimetype": "text/x-python",
   "name": "python",
   "nbconvert_exporter": "python",
   "pygments_lexer": "ipython3",
   "version": "3.6.4"
  }
 },
 "nbformat": 4,
 "nbformat_minor": 2
}
