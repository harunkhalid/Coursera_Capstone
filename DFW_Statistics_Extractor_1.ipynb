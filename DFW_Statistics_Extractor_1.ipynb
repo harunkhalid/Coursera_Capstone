{
 "cells": [
  {
   "cell_type": "markdown",
   "metadata": {},
   "source": [
    "<b>Importing Metrics for Cities in the Dallas Fortworth (DFW) Metroplex by webscraping www.bestplaces.net website using beautiful soup</b>"
   ]
  },
  {
   "cell_type": "code",
   "execution_count": null,
   "metadata": {},
   "outputs": [],
   "source": [
    "#Upon inspecting the data in the website, it was determined that the name of the cities were stored in a 'div' tag. We are running a for loop through the div tag to determine the different Dallas cities that are listed under it and passing the values to a list.\n",
    "\n",
    "dallas_city_results_list=[]\n",
    "url ='https://www.bestplaces.net/find/zip.aspx?msa=19100&st=tx'\n",
    "page = requests.get(url)\n",
    "soup = BeautifulSoup(page.content, 'html.parser')\n",
    "for div_tag in soup.find_all(\"div\", class_=\"row mt-3\"):\n",
    "    for a_tag in div_tag.find_all('a'):\n",
    "        dallas_city_results_list.append(a_tag.attrs['href'])\n",
    "\n",
    "\n",
    "#Creating a column named url to save the links scraped above. The links are then modfied by correcting the beginning portion\n",
    "df_cities_test=pd.DataFrame(dallas_city_results_list, columns=[\"url\"])\n",
    "df_cities_test[\"url\"]=df_cities_test[\"url\"].str.replace(\"../zip-code/\",\"https://www.bestplaces.net/zip-code/\")\n",
    "x=df_cities_test.url.to_list()\n",
    "\n",
    "\n",
    "\n",
    "dallas_cities_metrics=[]\n",
    "n=0\n",
    "for url in x:\n",
    "    page = requests.get(url)\n",
    "    status= page.status_code\n",
    "    soup = BeautifulSoup(page.content, 'html.parser')\n",
    "    \n",
    "    for title in soup.find_all(\"p\", class_=\"card-title text-center\"):\n",
    "        dallas_cities_metrics.append(title.text)\n",
    "        \n",
    "    for population in soup.find_all(\"p\", class_=\"text-center py-0 my-0\", attrs={'style':'font-size:30px;'}):\n",
    "        dallas_cities_metrics.append(population.text)\n",
    "            \n",
    "    for other_metrics in soup.find_all(\"p\", class_=\"text-center\", attrs={'style':'font-size:33px;'}):\n",
    "        dallas_cities_metrics.append(other_metrics.text)  \n",
    "    \n",
    "    print(dallas_cities_metrics[n] + \" has status code {} and data scraping complete!\".format(status))\n",
    "    n=n+7\n",
    "\n",
    "#creating list within list at everything 7th element within 'dallas_cities_metrics' list in order to create a dataframe\n",
    "dallas_cities_metrics=[dallas_cities_metrics[7*i:7*i+7] for i in range(0,math.ceil(len(dallas_cities_metrics)/7))]\n",
    "\n",
    "\n",
    "print(\"Webscraping for Dallas-Fortworth (DFW) Metroplex cities data complete! \")  "
   ]
  },
  {
   "cell_type": "code",
   "execution_count": null,
   "metadata": {},
   "outputs": [],
   "source": [
    "#creating dataframe from list\n",
    "df_dallas_cities_metrics=pd.DataFrame(dallas_cities_metrics, columns=[\"City\",\"Population\",\"Unemployment_Rate\",\"Median_Income\",\"Median_Home_Price\",\"Median_Age\",\"Climate_Comfort_Index\"])\n",
    "\n",
    "#Removing % sign from Unemployment_Rate\n",
    "df_dallas_cities_metrics[\"Population\"]=df_dallas_cities_metrics[\"Population\"].str.replace(\",\",\"\")\n",
    "\n",
    "#Removing % sign from Unemployment_Rate\n",
    "df_dallas_cities_metrics[\"Unemployment_Rate\"]=df_dallas_cities_metrics[\"Unemployment_Rate\"].str.replace(\"%\",\"\")\n",
    "\n",
    "#Removing $ sign from Median_Income\n",
    "df_dallas_cities_metrics[\"Median_Income\"]=df_dallas_cities_metrics[\"Median_Income\"].str.replace(\"$\",\"\")\n",
    "df_dallas_cities_metrics[\"Median_Income\"]=df_dallas_cities_metrics[\"Median_Income\"].str.replace(\",\",\"\")\n",
    "\n",
    "#Removing $ sign from Median_Home_Price\n",
    "df_dallas_cities_metrics[\"Median_Home_Price\"]=df_dallas_cities_metrics[\"Median_Home_Price\"].str.replace(\"$\",\"\")\n",
    "df_dallas_cities_metrics[\"Median_Home_Price\"]=df_dallas_cities_metrics[\"Median_Home_Price\"].str.replace(\",\",\"\")\n",
    "\n",
    "#Removing '/10' from Climate_Comfort_Index\n",
    "df_dallas_cities_metrics[\"Climate_Comfort_Index\"]=df_dallas_cities_metrics[\"Climate_Comfort_Index\"].str.replace(\"/10\",\"\")\n",
    "\n",
    "#Creating a clean column with City Information\n",
    "df_dallas_cities_metrics[\"City_\"]=df_dallas_cities_metrics[\"City\"]\n",
    "df_dallas_cities_metrics[\"City_\"]=df_dallas_cities_metrics[\"City_\"].str.split('(').str[0]\n",
    "df_dallas_cities_metrics[\"City_\"]=df_dallas_cities_metrics[\"City_\"].str.strip()\n",
    "\n",
    "#Creating a clean column with State Information\n",
    "df_dallas_cities_metrics[\"State\"]=df_dallas_cities_metrics[\"City\"]\n",
    "df_dallas_cities_metrics[\"State\"]=df_dallas_cities_metrics[\"State\"].str[-6:]\n",
    "df_dallas_cities_metrics[\"State\"]=df_dallas_cities_metrics[\"State\"].str.strip()\n",
    "\n",
    "#Creating a clean column with Zipcode Information\n",
    "df_dallas_cities_metrics[\"Zipcode\"]=df_dallas_cities_metrics[\"City\"]\n",
    "df_dallas_cities_metrics[\"Zipcode\"]=df_dallas_cities_metrics[\"Zipcode\"].str.split('(').str[1]\n",
    "df_dallas_cities_metrics[\"Zipcode\"]=df_dallas_cities_metrics[\"Zipcode\"].str.split(')').str[0]\n",
    "df_dallas_cities_metrics[\"Zipcode\"]=df_dallas_cities_metrics[\"Zipcode\"].str.replace(\"zip \",\"\")\n",
    "\n",
    "#Dropping old City Column\n",
    "df_dallas_cities_metrics=df_dallas_cities_metrics.drop([\"City\"], axis='columns')\n",
    "\n",
    "\n",
    "#Renaming newly created 'City_' column to 'City'\n",
    "df_dallas_cities_metrics.rename(columns={'City_':'Neighborhood'}, inplace=True)\n",
    "\n",
    "#Re-arranging columns in newly create Dallas Cities Metrics Dataframe\n",
    "df_dallas_cities_metrics=df_dallas_cities_metrics[['Neighborhood','Zipcode','State','Population','Unemployment_Rate','Median_Income','Median_Home_Price','Median_Age','Climate_Comfort_Index']]\n",
    "df_dallas_cities_metrics.head()"
   ]
  },
  {
   "cell_type": "code",
   "execution_count": null,
   "metadata": {},
   "outputs": [],
   "source": [
    "#Determining number of rows in newly created dallas cities metrics dataframe\n",
    "len(df_dallas_cities_metrics)"
   ]
  },
  {
   "cell_type": "code",
   "execution_count": null,
   "metadata": {},
   "outputs": [],
   "source": [
    "#Determining data types of the newly created dataframe\n",
    "df_dallas_cities_metrics.dtypes"
   ]
  },
  {
   "cell_type": "code",
   "execution_count": null,
   "metadata": {},
   "outputs": [],
   "source": [
    "#Converting data to appropriate data types to use in analysis later\n",
    "df_dallas_cities_metrics['Population']=pd.to_numeric(df_dallas_cities_metrics['Population'])\n",
    "df_dallas_cities_metrics['Unemployment_Rate']=pd.to_numeric(df_dallas_cities_metrics['Unemployment_Rate'])\n",
    "df_dallas_cities_metrics['Median_Income']=pd.to_numeric(df_dallas_cities_metrics['Median_Income'])\n",
    "df_dallas_cities_metrics['Median_Home_Price']=pd.to_numeric(df_dallas_cities_metrics['Median_Home_Price'])\n",
    "df_dallas_cities_metrics['Median_Age']=pd.to_numeric(df_dallas_cities_metrics['Median_Age'])\n",
    "df_dallas_cities_metrics['Climate_Comfort_Index']=pd.to_numeric(df_dallas_cities_metrics['Climate_Comfort_Index'])"
   ]
  },
  {
   "cell_type": "markdown",
   "metadata": {},
   "source": [
    "<b>The web scraped  DFW statistics data has information for multiple zipcodes within the same neighborhoods. We are now going to create a dataframe that has one row per neighborhood by summarizing the data at Neighborhood level by taking the weighted averages of all statistics using population of the various zipcodes as the weight </b>"
   ]
  },
  {
   "cell_type": "code",
   "execution_count": null,
   "metadata": {},
   "outputs": [],
   "source": [
    "#There are two zipcodes in which poplation is 0\n",
    "len(df_dallas_cities_metrics[df_dallas_cities_metrics[\"Population\"]==0])"
   ]
  },
  {
   "cell_type": "code",
   "execution_count": null,
   "metadata": {},
   "outputs": [],
   "source": [
    "#Eliminating data from zipcodes where poplation as that wouldn't be part of our analysis\n",
    "df_dallas_cities_metrics=df_dallas_cities_metrics[df_dallas_cities_metrics[\"Population\"] !=0]"
   ]
  },
  {
   "cell_type": "code",
   "execution_count": null,
   "metadata": {},
   "outputs": [],
   "source": [
    "#Checking whether zipcodes with 0 population have been removed from our base data\n",
    "len(df_dallas_cities_metrics[df_dallas_cities_metrics[\"Population\"]==0])"
   ]
  },
  {
   "cell_type": "code",
   "execution_count": null,
   "metadata": {},
   "outputs": [],
   "source": [
    "df_dallas_cities_metrics.head()"
   ]
  },
  {
   "cell_type": "markdown",
   "metadata": {},
   "source": [
    "<b> CREATING BASE DATASET FOR THIS PROJECT </b>"
   ]
  },
  {
   "cell_type": "code",
   "execution_count": null,
   "metadata": {},
   "outputs": [],
   "source": [
    "g = df_dallas_cities_metrics.groupby(['Neighborhood'])\n",
    "df_dallas_stats = g.apply(lambda x: pd.Series([np.sum(x['Population']),\n",
    "                                               np.average(x['Unemployment_Rate'], weights=x['Population']), \n",
    "                             np.average(x['Median_Income'],weights=x['Population']), \n",
    "                             np.average(x['Median_Home_Price'],weights=x['Population']),\n",
    "                             np.average(x['Median_Age'],weights=x['Population']),\n",
    "                             np.average(x['Climate_Comfort_Index'],weights=x['Population'])],\n",
    "                                    index=['Population','Unemployment_Rate','Median_Income','Median_Home_Price','Median_Age','Climate_Comfort_Index']))\n",
    "df_dallas_stats=df_dallas_stats.reset_index()\n",
    "\n",
    "df_dallas_stats.head()"
   ]
  },
  {
   "cell_type": "code",
   "execution_count": null,
   "metadata": {},
   "outputs": [],
   "source": [
    "# The following code will assign one zipcode per neighborhood to the base data\n",
    "df_dallas_cities_metrics_Zipcode=df_dallas_cities_metrics.groupby(['Neighborhood'])['Zipcode'].apply(','.join).reset_index()\n",
    "df_dallas_cities_metrics_Zipcode['Zipcode_']=df_dallas_cities_metrics_Zipcode['Zipcode'].str.split(',').str[0]\n",
    "df_dallas_cities_metrics_Zipcode=df_dallas_cities_metrics_Zipcode.drop(['Zipcode'],axis='columns')\n",
    "df_dallas_cities_metrics_Zipcode.rename(columns={'Zipcode_':'Zipcode'}, inplace=True)\n",
    "df_dallas_cities_metrics_Zipcode.head()"
   ]
  },
  {
   "cell_type": "code",
   "execution_count": null,
   "metadata": {},
   "outputs": [],
   "source": [
    "df_dallas_stats=pd.merge(df_dallas_stats, df_dallas_cities_metrics_Zipcode, how='left')"
   ]
  },
  {
   "cell_type": "code",
   "execution_count": null,
   "metadata": {},
   "outputs": [],
   "source": [
    "print(\"#Dataframe with Statistics for Dallas has been created! Dataframename: df_dallas_stats\")"
   ]
  }
 ],
 "metadata": {
  "kernelspec": {
   "display_name": "Python 3",
   "language": "python",
   "name": "python3"
  },
  "language_info": {
   "codemirror_mode": {
    "name": "ipython",
    "version": 3
   },
   "file_extension": ".py",
   "mimetype": "text/x-python",
   "name": "python",
   "nbconvert_exporter": "python",
   "pygments_lexer": "ipython3",
   "version": "3.7.6"
  }
 },
 "nbformat": 4,
 "nbformat_minor": 4
}
